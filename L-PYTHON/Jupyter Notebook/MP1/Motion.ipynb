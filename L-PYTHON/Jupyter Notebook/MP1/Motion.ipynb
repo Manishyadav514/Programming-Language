{
  "cells": [
    {
      "cell_type": "markdown",
      "metadata": {
        "id": "sQenuzw7-2LN"
      },
      "source": [
        "# Describing motion using Python "
      ]
    },
    {
      "cell_type": "markdown",
      "metadata": {
        "tags": [],
        "id": "Lm5aqsde-2LR"
      },
      "source": [
        "#### References\n",
        "The Feynman Lectures in Physics - Volume 1; Chapter 8"
      ]
    },
    {
      "cell_type": "markdown",
      "metadata": {
        "id": "DX3c282F-2LS"
      },
      "source": [
        "We will use python programming language to describe motion of a one-dimensional object. For this we will first import some modules "
      ]
    },
    {
      "cell_type": "markdown",
      "metadata": {
        "id": "vOYOmIVr-2LT"
      },
      "source": [
        "#### Computer program\n",
        "We will think of a computer program as a set of instruction that a computer can follow."
      ]
    },
    {
      "cell_type": "code",
      "execution_count": null,
      "metadata": {
        "id": "5DEh7U6Y-2LU"
      },
      "outputs": [],
      "source": [
        "from pylab import *"
      ]
    },
    {
      "cell_type": "markdown",
      "metadata": {
        "id": "uYIW-Qcy-2LW"
      },
      "source": [
        "pylab is a set of scripts or programs that have already been written, specially for plotting."
      ]
    },
    {
      "cell_type": "markdown",
      "metadata": {
        "id": "5Xbh9QD3-2LW"
      },
      "source": [
        "#### Plotting Tables"
      ]
    },
    {
      "cell_type": "markdown",
      "metadata": {
        "id": "8-dEoPVh-2Lb"
      },
      "source": [
        "We would like to plot the motion of a one dimensional object (see Fig. 8-1 in Feynman Lectures in Physics - Volume 1)"
      ]
    },
    {
      "cell_type": "markdown",
      "metadata": {
        "id": "_KTZypLD-2Lc"
      },
      "source": [
        "We are observing the motion at regular time intervals."
      ]
    },
    {
      "cell_type": "code",
      "execution_count": null,
      "metadata": {
        "id": "0GaLSWFD-2Ld"
      },
      "outputs": [],
      "source": [
        "T = array([0,1,2,3,4,5,6,7,8,9])\n",
        "#t = array([0,0,0,0,0,0,0,0,0,0])"
      ]
    },
    {
      "cell_type": "markdown",
      "metadata": {
        "id": "m9CUe2C3-2Le"
      },
      "source": [
        "The function **array** which is defined in **pylab** converts our measurment into a row-vector "
      ]
    },
    {
      "cell_type": "code",
      "execution_count": null,
      "metadata": {
        "id": "Xo1HKxvR-2Lf",
        "outputId": "b039e24e-8a3e-4a98-b8ca-4cfcf69a539d"
      },
      "outputs": [
        {
          "name": "stdout",
          "output_type": "stream",
          "text": [
            "0 1\n"
          ]
        }
      ],
      "source": [
        "print(T[0], T[1])"
      ]
    },
    {
      "cell_type": "markdown",
      "metadata": {
        "id": "vc3_An-H-2Lh"
      },
      "source": [
        "Result of our measurements are."
      ]
    },
    {
      "cell_type": "code",
      "execution_count": null,
      "metadata": {
        "id": "Aq1A-NI_-2Li"
      },
      "outputs": [],
      "source": [
        "X = array([0, 120, 400, 900, 950, 960, 1300, 1800, 2350, 2400 ])"
      ]
    },
    {
      "cell_type": "code",
      "execution_count": null,
      "metadata": {
        "id": "w8v2BujB-2Li",
        "outputId": "cacc30a3-9890-4867-dfa5-292c375b933a"
      },
      "outputs": [
        {
          "data": {
            "text/plain": [
              "[<matplotlib.lines.Line2D at 0x7fa3c828fb50>]"
            ]
          },
          "execution_count": 5,
          "metadata": {},
          "output_type": "execute_result"
        },
        {
          "data": {
            "image/png": "[encoded data removed]",
            "text/plain": [
              "<Figure size 432x288 with 1 Axes>"
            ]
          },
          "metadata": {
            "needs_background": "light"
          },
          "output_type": "display_data"
        }
      ],
      "source": [
        "plot(T,X)"
      ]
    },
    {
      "cell_type": "markdown",
      "metadata": {
        "id": "3AmlscNZ-2Lj"
      },
      "source": [
        "#### Plotting\n",
        "**pyplot** defines a fucntion **plot** for plotting which takes our time and distance array as arguments and plots it. The function **plot** also takes some optional arguments to make the plot more descreptive."
      ]
    },
    {
      "cell_type": "code",
      "execution_count": null,
      "metadata": {
        "id": "Q6Z5BqLO-2Lk",
        "outputId": "64a64404-b905-49bc-9934-283816c07434"
      },
      "outputs": [
        {
          "data": {
            "text/plain": [
              "Text(0, 0.5, 'DISTANCE TRAVELLED IN FEET')"
            ]
          },
          "execution_count": 6,
          "metadata": {},
          "output_type": "execute_result"
        },
        {
          "data": {
            "image/png": "[encoded data removed]",
            "text/plain": [
              "<Figure size 432x288 with 1 Axes>"
            ]
          },
          "metadata": {
            "needs_background": "light"
          },
          "output_type": "display_data"
        }
      ],
      "source": [
        "#plot(t, X, marker = 'o', color = 'g')\n",
        "plot(T, X, marker = 'o', linestyle = '-', color = 'b') # Defined in pylab\n",
        "xlabel('TIME IN MINUTES') # Defined in pylab\n",
        "ylabel('DISTANCE TRAVELLED IN FEET') # Defined in pylab\n",
        "#savefig('motion.png')"
      ]
    },
    {
      "cell_type": "markdown",
      "metadata": {
        "id": "XfBObQKz-2Lk"
      },
      "source": [
        "### Describing motion given by the formula $s = \\frac{1}{2}9.8 t^2$"
      ]
    },
    {
      "cell_type": "markdown",
      "metadata": {
        "id": "x5-XErXJ-2Ll"
      },
      "source": [
        "Python allows us to obtain a distance array from the time array using the above formula in a very simple manner."
      ]
    },
    {
      "cell_type": "code",
      "execution_count": null,
      "metadata": {
        "id": "MurSa6mX-2Ln"
      },
      "outputs": [],
      "source": [
        "S = 0.5 * 9.8 * T**2"
      ]
    },
    {
      "cell_type": "code",
      "execution_count": null,
      "metadata": {
        "id": "aR-egaVA-2Lr",
        "outputId": "b7e445d0-1f0c-435f-fbf2-df83a83893c4"
      },
      "outputs": [
        {
          "data": {
            "text/plain": [
              "Text(0, 0.5, 'DISTANCE TRAVELLED IN METER')"
            ]
          },
          "execution_count": 8,
          "metadata": {},
          "output_type": "execute_result"
        },
        {
          "data": {
            "image/png": "[encoded data removed]",
            "text/plain": [
              "<Figure size 432x288 with 1 Axes>"
            ]
          },
          "metadata": {
            "needs_background": "light"
          },
          "output_type": "display_data"
        }
      ],
      "source": [
        "\n",
        "plot(T, S, marker = 'o', linestyle = '-', color = 'r')\n",
        "xlabel('TIME IN SECONDS')\n",
        "ylabel('DISTANCE TRAVELLED IN METER')\n",
        "#plt.gca().invert_yaxis() # invert y axis\n",
        "#savefig('Falling Body')\n",
        "#show()"
      ]
    },
    {
      "cell_type": "code",
      "execution_count": null,
      "metadata": {
        "id": "BWDQJVfX-2Ls",
        "outputId": "00136946-87b5-4473-935f-db4c2a0da37b"
      },
      "outputs": [
        {
          "data": {
            "image/png": "[encoded data removed]",
            "text/plain": [
              "<Figure size 432x288 with 1 Axes>"
            ]
          },
          "metadata": {
            "needs_background": "light"
          },
          "output_type": "display_data"
        }
      ],
      "source": [
        "t = array([0,0,0,0,0,0,0,0,0,0])\n",
        "plot(t, S, marker = 'o')\n",
        "xlabel('TIME IN SECONDS')\n",
        "ylabel('DISTANCE TRAVELLED IN METER')\n",
        "plt.gca().invert_yaxis() # invert y axis\n",
        "#savefig('Falling Body')\n",
        "show()"
      ]
    },
    {
      "cell_type": "markdown",
      "metadata": {
        "id": "q_tit2QO-2Lt"
      },
      "source": [
        "### Speed\n",
        "We want answer the question what is the speed of a falling object at, say 1 second?"
      ]
    },
    {
      "cell_type": "markdown",
      "metadata": {
        "id": "lcF_XBMp-2Lu"
      },
      "source": [
        "#### Function in Python"
      ]
    },
    {
      "cell_type": "markdown",
      "metadata": {
        "id": "HFTHNVKq-2Lu"
      },
      "source": [
        "Python allows us to define formulas or functions"
      ]
    },
    {
      "cell_type": "code",
      "execution_count": null,
      "metadata": {
        "id": "nEQ_U4K0-2Lv"
      },
      "outputs": [],
      "source": [
        "def y(t, a):\n",
        "    return 0.5 * a * t**2"
      ]
    },
    {
      "cell_type": "markdown",
      "metadata": {
        "id": "qUtYcWsT-2Lv"
      },
      "source": [
        "##### Keywords\n",
        "def\n",
        "return"
      ]
    },
    {
      "cell_type": "code",
      "execution_count": null,
      "metadata": {
        "id": "Q379oGXl-2Lw",
        "outputId": "7f5cc24b-1146-4b16-da41-6cca26536e30"
      },
      "outputs": [
        {
          "data": {
            "text/plain": [
              "1250.0"
            ]
          },
          "execution_count": 11,
          "metadata": {},
          "output_type": "execute_result"
        }
      ],
      "source": [
        "y(10,25)"
      ]
    },
    {
      "cell_type": "code",
      "execution_count": null,
      "metadata": {
        "id": "6lAxthMT-2Lx"
      },
      "outputs": [],
      "source": [
        "g = 9.8"
      ]
    },
    {
      "cell_type": "markdown",
      "metadata": {
        "id": "rADhk_Rx-2Ly"
      },
      "source": [
        "#### Repeated tasks in Python"
      ]
    },
    {
      "cell_type": "markdown",
      "metadata": {
        "id": "L7pLsilP-2Lz"
      },
      "source": [
        "We can repeat a task using for loop"
      ]
    },
    {
      "cell_type": "code",
      "execution_count": null,
      "metadata": {
        "id": "Ylq7zh4G-2Lz"
      },
      "outputs": [],
      "source": [
        "for deltaT in [0.001, 0.0001, 0.00001, 0.000001,0.0000001, 0.00000001]:\n",
        "    v = (y(deltaT, g) - y(0,g))/deltaT\n",
        "    print(\"Velocity at t = 0 with Delta T = \", deltaT,\"    \" , round(v, 6))"
      ]
    },
    {
      "cell_type": "markdown",
      "metadata": {
        "id": "SlgGpuzH-2L0"
      },
      "source": [
        "### Distance"
      ]
    },
    {
      "cell_type": "markdown",
      "metadata": {
        "id": "mcnjpofM-2L1"
      },
      "source": [
        "### Table of velocity"
      ]
    },
    {
      "cell_type": "code",
      "execution_count": null,
      "metadata": {
        "id": "gXyEAn6j-2L2",
        "outputId": "58b4edaa-0b71-44ff-957e-9d3219d20fce"
      },
      "outputs": [
        {
          "name": "stdout",
          "output_type": "stream",
          "text": [
            "t =  0  velocity =  0.0\n",
            "t =  1  velocity =  9.8\n",
            "t =  2  velocity =  19.6\n",
            "t =  3  velocity =  29.400000000000002\n",
            "t =  4  velocity =  39.2\n",
            "t =  5  velocity =  49.0\n",
            "t =  6  velocity =  58.800000000000004\n",
            "t =  7  velocity =  68.60000000000001\n",
            "t =  8  velocity =  78.4\n",
            "t =  9  velocity =  88.2\n"
          ]
        }
      ],
      "source": [
        "for t in range(0,10):\n",
        "    print(\"t = \", t, \" velocity = \", g * t)"
      ]
    },
    {
      "cell_type": "markdown",
      "metadata": {
        "id": "IZiDP_FR-2L2"
      },
      "source": [
        "#### Velocity function for a falling body which starts at rest"
      ]
    },
    {
      "cell_type": "code",
      "execution_count": null,
      "metadata": {
        "id": "o2wbEmt_-2L4"
      },
      "outputs": [],
      "source": [
        "def velocity(t):\n",
        "    return 9.8 * t"
      ]
    },
    {
      "cell_type": "markdown",
      "metadata": {
        "id": "fTBlNLUp-2L5"
      },
      "source": [
        "#### Calculating the position from the velocity function"
      ]
    },
    {
      "cell_type": "markdown",
      "metadata": {
        "id": "HL9dy3s9-2L7"
      },
      "source": [
        "First we will use $$y(t) = y(t-\\Delta t) + v(t-\\Delta t) \\times \\Delta t$$"
      ]
    },
    {
      "cell_type": "code",
      "execution_count": null,
      "metadata": {
        "id": "DUFCtH4i-2L7"
      },
      "outputs": [],
      "source": [
        "deltaT = 0.000001\n",
        "N = int(4.0/deltaT)\n",
        "y = float(0.0)"
      ]
    },
    {
      "cell_type": "code",
      "execution_count": null,
      "metadata": {
        "id": "xzK3u1nT-2L8",
        "outputId": "e749956a-c8f3-46b1-a2b5-acad27045287"
      },
      "outputs": [
        {
          "name": "stdout",
          "output_type": "stream",
          "text": [
            "T =  4.0 y =  78.4  Number of steps =  4000000\n"
          ]
        }
      ],
      "source": [
        "y = float(0.0)\n",
        "for i in range(1,N+1):\n",
        "    t = (i-1) * deltaT\n",
        "    #print(t)\n",
        "    v = velocity(t)\n",
        "    deltaY = v * deltaT\n",
        "    y += deltaY # y = y + deltaY\n",
        "    #print(\"t = \", t+deltaT, \" y = \", round(y, 3))\n",
        "print(\"T = \", round(t+deltaT,3), \"y = \", round(y,3), \" Number of steps = \", N)"
      ]
    },
    {
      "cell_type": "markdown",
      "metadata": {
        "id": "b2PvCgmb-2L9"
      },
      "source": [
        "#### Midpoint method"
      ]
    },
    {
      "cell_type": "markdown",
      "metadata": {
        "id": "1cjAQwCN-2L-"
      },
      "source": [
        "$$y(t+\\Delta t) = y(t) + v(t+\\Delta t /2) \\times \\Delta t $$"
      ]
    },
    {
      "cell_type": "code",
      "execution_count": null,
      "metadata": {
        "id": "bRuXNniJ-2L-"
      },
      "outputs": [],
      "source": [
        "deltaT = 0.00001\n",
        "N = int(4.0/deltaT)\n",
        "y = float(0.0)\n",
        "for i in range(1,N+1):\n",
        "    t = (i-1) * deltaT\n",
        "    v = velocity(t+deltaT)\n",
        "    deltaY = v * deltaT\n",
        "    y += deltaY\n",
        "    #print(t+deltaT, v, y\n",
        "print(round(t+deltaT,3), round(y,3), \"Number of steps = \", N)"
      ]
    },
    {
      "cell_type": "code",
      "execution_count": null,
      "metadata": {
        "id": "0oYtChNj-2L_"
      },
      "outputs": [],
      "source": [
        "N"
      ]
    },
    {
      "cell_type": "code",
      "execution_count": null,
      "metadata": {
        "id": "x6CeUMh1-2MA"
      },
      "outputs": [],
      "source": [
        ""
      ]
    },
    {
      "cell_type": "code",
      "execution_count": null,
      "metadata": {
        "id": "GhBfUDt9-2MB"
      },
      "outputs": [],
      "source": [
        ""
      ]
    }
  ],
  "metadata": {
    "kernelspec": {
      "display_name": "Python 3 (ipykernel)",
      "language": "python",
      "name": "python3"
    },
    "language_info": {
      "codemirror_mode": {
        "name": "ipython",
        "version": 3
      },
      "file_extension": ".py",
      "mimetype": "text/x-python",
      "name": "python",
      "nbconvert_exporter": "python",
      "pygments_lexer": "ipython3",
      "version": "3.8.8"
    },
    "colab": {
      "name": "Motion.ipynb",
      "provenance": []
    }
  },
  "nbformat": 4,
  "nbformat_minor": 0
}