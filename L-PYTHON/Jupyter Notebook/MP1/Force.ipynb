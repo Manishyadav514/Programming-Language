{
  "cells": [
    {
      "cell_type": "code",
      "execution_count": 14,
      "metadata": {
        "id": "exiutYrc-2E0"
      },
      "outputs": [],
      "source": [
        "import numpy as np\n",
        "import matplotlib.pyplot as plt"
      ]
    },
    {
      "cell_type": "markdown",
      "metadata": {
        "id": "PZab83EL-2FF"
      },
      "source": [
        "#### Define the force law $$F=-x$$\n"
      ]
    },
    {
      "cell_type": "code",
      "execution_count": 15,
      "metadata": {
        "id": "RGNjDxCE-2FM"
      },
      "outputs": [],
      "source": [
        "def a(x):\n",
        "    return -x - 0.01 * x**3\n",
        "\n",
        "deltaT = 0.1\n",
        "tFinal = 10.0\n",
        "N = int(tFinal/deltaT)"
      ]
    },
    {
      "cell_type": "markdown",
      "metadata": {
        "id": "pxhtSi1O-2FQ"
      },
      "source": [
        "#### create empty array for $T$ $X$ $V$"
      ]
    },
    {
      "cell_type": "code",
      "execution_count": 17,
      "metadata": {
        "id": "RFgOo_3G-2FR"
      },
      "outputs": [],
      "source": [
        "T = np.zeros(N+1, float)\n",
        "X = np.zeros(N+1, float)\n",
        "V = np.zeros(N+1, float)"
      ]
    },
    {
      "cell_type": "markdown",
      "metadata": {
        "id": "nfa8Qp5d-2FT"
      },
      "source": [
        "#### Intial conditons"
      ]
    },
    {
      "cell_type": "code",
      "execution_count": 18,
      "metadata": {
        "id": "kl3q2qdK-2FV"
      },
      "outputs": [],
      "source": [
        "X[0] = 1.0\n",
        "V[0] = 0.0"
      ]
    },
    {
      "cell_type": "markdown",
      "metadata": {
        "id": "XJgObiV2-2FX"
      },
      "source": [
        "#### Solve by forward integration"
      ]
    },
    {
      "cell_type": "code",
      "execution_count": 19,
      "metadata": {
        "id": "BFLU7uYh-2Fb",
        "outputId": "d1464fa5-544f-4675-b5e4-d4cbaa3654a5"
      },
      "outputs": [
        {
          "name": "stdout",
          "output_type": "stream",
          "text": [
            "T =  0.1  X =  1.0  V =  -0.101\n",
            "T =  0.2  X =  0.99  V =  -0.202\n",
            "T =  0.3  X =  0.97  V =  -0.302\n",
            "T =  0.4  X =  0.94  V =  -0.4\n",
            "T =  0.5  X =  0.9  V =  -0.495\n",
            "T =  0.6  X =  0.85  V =  -0.585\n",
            "T =  0.7  X =  0.792  V =  -0.671\n",
            "T =  0.8  X =  0.724  V =  -0.751\n",
            "T =  0.9  X =  0.649  V =  -0.823\n",
            "T =  1.0  X =  0.567  V =  -0.889\n",
            "T =  1.1  X =  0.478  V =  -0.945\n",
            "T =  1.2  X =  0.384  V =  -0.993\n",
            "T =  1.3  X =  0.284  V =  -1.032\n",
            "T =  1.4  X =  0.181  V =  -1.06\n",
            "T =  1.5  X =  0.075  V =  -1.078\n",
            "T =  1.6  X =  -0.033  V =  -1.086\n",
            "T =  1.7  X =  -0.141  V =  -1.083\n",
            "T =  1.8  X =  -0.25  V =  -1.068\n",
            "T =  1.9  X =  -0.356  V =  -1.044\n",
            "T =  2.0  X =  -0.461  V =  -1.008\n",
            "T =  2.1  X =  -0.562  V =  -0.962\n",
            "T =  2.2  X =  -0.658  V =  -0.905\n",
            "T =  2.3  X =  -0.748  V =  -0.839\n",
            "T =  2.4  X =  -0.832  V =  -0.764\n",
            "T =  2.5  X =  -0.909  V =  -0.68\n",
            "T =  2.6  X =  -0.977  V =  -0.589\n",
            "T =  2.7  X =  -1.036  V =  -0.49\n",
            "T =  2.8  X =  -1.085  V =  -0.385\n",
            "T =  2.9  X =  -1.123  V =  -0.276\n",
            "T =  3.0  X =  -1.151  V =  -0.162\n",
            "T =  3.1  X =  -1.167  V =  -0.045\n",
            "T =  3.2  X =  -1.171  V =  0.073\n",
            "T =  3.3  X =  -1.164  V =  0.192\n",
            "T =  3.4  X =  -1.145  V =  0.31\n",
            "T =  3.5  X =  -1.114  V =  0.426\n",
            "T =  3.6  X =  -1.071  V =  0.538\n",
            "T =  3.7  X =  -1.017  V =  0.647\n",
            "T =  3.8  X =  -0.953  V =  0.75\n",
            "T =  3.9  X =  -0.878  V =  0.846\n",
            "T =  4.0  X =  -0.793  V =  0.934\n",
            "T =  4.1  X =  -0.7  V =  1.014\n",
            "T =  4.2  X =  -0.598  V =  1.084\n",
            "T =  4.3  X =  -0.49  V =  1.144\n",
            "T =  4.4  X =  -0.376  V =  1.194\n",
            "T =  4.5  X =  -0.256  V =  1.231\n",
            "T =  4.6  X =  -0.133  V =  1.257\n",
            "T =  4.7  X =  -0.007  V =  1.27\n",
            "T =  4.8  X =  0.12  V =  1.271\n",
            "T =  4.9  X =  0.247  V =  1.259\n",
            "T =  5.0  X =  0.373  V =  1.234\n",
            "T =  5.1  X =  0.496  V =  1.197\n",
            "T =  5.2  X =  0.616  V =  1.147\n",
            "T =  5.3  X =  0.73  V =  1.085\n",
            "T =  5.4  X =  0.839  V =  1.012\n",
            "T =  5.5  X =  0.94  V =  0.927\n",
            "T =  5.6  X =  1.033  V =  0.833\n",
            "T =  5.7  X =  1.116  V =  0.728\n",
            "T =  5.8  X =  1.189  V =  0.615\n",
            "T =  5.9  X =  1.25  V =  0.495\n",
            "T =  6.0  X =  1.3  V =  0.368\n",
            "T =  6.1  X =  1.337  V =  0.235\n",
            "T =  6.2  X =  1.36  V =  0.099\n",
            "T =  6.3  X =  1.37  V =  -0.039\n",
            "T =  6.4  X =  1.366  V =  -0.179\n",
            "T =  6.5  X =  1.348  V =  -0.318\n",
            "T =  6.6  X =  1.317  V =  -0.455\n",
            "T =  6.7  X =  1.271  V =  -0.589\n",
            "T =  6.8  X =  1.212  V =  -0.718\n",
            "T =  6.9  X =  1.14  V =  -0.841\n",
            "T =  7.0  X =  1.056  V =  -0.957\n",
            "T =  7.1  X =  0.961  V =  -1.064\n",
            "T =  7.2  X =  0.854  V =  -1.161\n",
            "T =  7.3  X =  0.738  V =  -1.247\n",
            "T =  7.4  X =  0.613  V =  -1.321\n",
            "T =  7.5  X =  0.481  V =  -1.382\n",
            "T =  7.6  X =  0.343  V =  -1.431\n",
            "T =  7.7  X =  0.2  V =  -1.465\n",
            "T =  7.8  X =  0.054  V =  -1.485\n",
            "T =  7.9  X =  -0.095  V =  -1.49\n",
            "T =  8.0  X =  -0.244  V =  -1.481\n",
            "T =  8.1  X =  -0.392  V =  -1.456\n",
            "T =  8.2  X =  -0.538  V =  -1.417\n",
            "T =  8.3  X =  -0.679  V =  -1.363\n",
            "T =  8.4  X =  -0.816  V =  -1.295\n",
            "T =  8.5  X =  -0.945  V =  -1.213\n",
            "T =  8.6  X =  -1.067  V =  -1.118\n",
            "T =  8.7  X =  -1.178  V =  -1.01\n",
            "T =  8.8  X =  -1.279  V =  -0.89\n",
            "T =  8.9  X =  -1.368  V =  -0.76\n",
            "T =  9.0  X =  -1.444  V =  -0.621\n",
            "T =  9.1  X =  -1.506  V =  -0.473\n",
            "T =  9.2  X =  -1.554  V =  -0.319\n",
            "T =  9.3  X =  -1.586  V =  -0.16\n",
            "T =  9.4  X =  -1.602  V =  0.002\n",
            "T =  9.5  X =  -1.601  V =  0.167\n",
            "T =  9.6  X =  -1.585  V =  0.331\n",
            "T =  9.7  X =  -1.552  V =  0.493\n",
            "T =  9.8  X =  -1.502  V =  0.652\n",
            "T =  9.9  X =  -1.437  V =  0.806\n",
            "T =  10.0  X =  -1.356  V =  0.953\n"
          ]
        }
      ],
      "source": [
        "for n in range(1, N+1):\n",
        "    T[n] = n * deltaT\n",
        "    X[n] = X[n-1] + V[n-1] * deltaT\n",
        "    V[n] = V[n-1] + a(X[n-1]) * deltaT\n",
        "    print(\"T = \", round(T[n], 3), \" X = \", round(X[n], 3), \" V = \", round(V[n], 3))"
      ]
    },
    {
      "cell_type": "code",
      "execution_count": 20,
      "metadata": {
        "id": "qJUEKKbq-2Fe",
        "outputId": "cf441a0d-643b-4fa3-9a02-154235b56901"
      },
      "outputs": [
        {
          "data": {
            "text/plain": [
              "<matplotlib.lines.Line2D at 0x20634bdcf70>"
            ]
          },
          "execution_count": 20,
          "metadata": {},
          "output_type": "execute_result"
        },
        {
          "data": {
            "image/png": "[encoded data removed]",
            "text/plain": [
              "<Figure size 432x288 with 1 Axes>"
            ]
          },
          "metadata": {
            "needs_background": "light"
          },
          "output_type": "display_data"
        }
      ],
      "source": [
        "plt.scatter(T,X, marker = 'o')\n",
        "plt.plot(T, np.cos(T))\n",
        "plt.ylabel(\"Position of the mass\")\n",
        "plt.xlabel(\"time\")\n",
        "plt.axhline(y=0, color='b')"
      ]
    },
    {
      "cell_type": "markdown",
      "metadata": {
        "id": "fLheXv9d-2Fg"
      },
      "source": [
        "#### Solve by leapfrog method"
      ]
    },
    {
      "cell_type": "markdown",
      "metadata": {
        "id": "kwMdVUKB-2Fh"
      },
      "source": [
        "![](Leap-Frog.png)"
      ]
    },
    {
      "cell_type": "code",
      "execution_count": 21,
      "metadata": {
        "id": "9dACq9m--2Fi"
      },
      "outputs": [],
      "source": [
        "deltaT = 0.1\n",
        "tFinal = 7.0\n",
        "N = int(tFinal/deltaT)\n",
        "T = np.zeros(N+1, float)\n",
        "X = np.zeros(N+1, float)\n",
        "V = np.zeros(N+1, float)"
      ]
    },
    {
      "cell_type": "markdown",
      "metadata": {
        "id": "IEtnqQuz-2Fj"
      },
      "source": [
        "Calculate the velocity at $\\epsilon/2$ using \n",
        "$$v(\\epsilon/2)=v(0)+\\frac{\\epsilon}{2}a(0)$$"
      ]
    },
    {
      "cell_type": "code",
      "execution_count": 22,
      "metadata": {
        "id": "XE73bLU8-2Ft"
      },
      "outputs": [],
      "source": [
        "X[0] = 1.0\n",
        "V[0] = (deltaT/2.0) * a(1.0) # the first element"
      ]
    },
    {
      "cell_type": "code",
      "execution_count": 23,
      "metadata": {
        "id": "ij5mnWbR-2Fv"
      },
      "outputs": [],
      "source": [
        "for n in range(1, N+1):\n",
        "    T[n] = n * deltaT\n",
        "    X[n] = X[n-1] + V[n-1] * deltaT     #using velocity at the midpoint of the interval\n",
        "    V[n] = V[n-1] + a(X[n]) * deltaT    #using accel at the midpoint of the interval"
      ]
    },
    {
      "cell_type": "code",
      "execution_count": 24,
      "metadata": {
        "id": "sXypo86g-2Fx",
        "outputId": "8143f31e-0873-481e-a5e3-5a24df0c2eb6"
      },
      "outputs": [
        {
          "data": {
            "text/plain": [
              "<matplotlib.lines.Line2D at 0x20634c21b50>"
            ]
          },
          "execution_count": 24,
          "metadata": {},
          "output_type": "execute_result"
        },
        {
          "data": {
            "image/png": "[encoded data removed]",
            "text/plain": [
              "<Figure size 432x288 with 1 Axes>"
            ]
          },
          "metadata": {
            "needs_background": "light"
          },
          "output_type": "display_data"
        }
      ],
      "source": [
        "plt.scatter(T,X, marker = 'o')\n",
        "Xexact = np.cos(T)\n",
        "plt.plot(T,Xexact)\n",
        "plt.ylabel(\"Position of the mass\")\n",
        "plt.xlabel(\"time\")\n",
        "plt.axhline(y=0, color='b')"
      ]
    },
    {
      "cell_type": "code",
      "execution_count": null,
      "metadata": {
        "id": "KNSDs6Jj-2Fy"
      },
      "outputs": [],
      "source": []
    }
  ],
  "metadata": {
    "colab": {
      "name": "Force.ipynb",
      "provenance": []
    },
    "kernelspec": {
      "display_name": "Python 3 (ipykernel)",
      "language": "python",
      "name": "python3"
    },
    "language_info": {
      "codemirror_mode": {
        "name": "ipython",
        "version": 3
      },
      "file_extension": ".py",
      "mimetype": "text/x-python",
      "name": "python",
      "nbconvert_exporter": "python",
      "pygments_lexer": "ipython3",
      "version": "3.8.6"
    }
  },
  "nbformat": 4,
  "nbformat_minor": 0
}
